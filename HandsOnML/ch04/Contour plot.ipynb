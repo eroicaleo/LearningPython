{
 "cells": [
  {
   "cell_type": "code",
   "execution_count": 3,
   "metadata": {},
   "outputs": [],
   "source": [
    "%matplotlib notebook\n",
    "import numpy as np\n",
    "import pandas as pd\n",
    "import matplotlib.pyplot as plt"
   ]
  },
  {
   "cell_type": "code",
   "execution_count": 4,
   "metadata": {},
   "outputs": [
    {
     "data": {
      "text/plain": [
       "array([[-1.5 ],\n",
       "       [-1.1 ],\n",
       "       [ 2.05]])"
      ]
     },
     "execution_count": 4,
     "metadata": {},
     "output_type": "execute_result"
    }
   ],
   "source": [
    "t1a, t1b, t2a, t2b = -1, 3, -1.5, 1.5\n",
    "\n",
    "t1s = np.linspace(t1a, t1b, 500)\n",
    "t2s = np.linspace(t2a, t2b, 500)\n",
    "\n",
    "# t1, t2 are both (500, 500) array\n",
    "t1, t2 = np.meshgrid(t1s, t2s)\n",
    "\n",
    "# it is (250000, 2) array\n",
    "# from bottom left, to top right\n",
    "T = np.c_[t1.ravel(), t2.ravel()]\n",
    "\n",
    "Xr = np.array([[-1, 1], [-0.3, -1], [1, 0.1]])\n",
    "Xr\n",
    "\n",
    "yr = 2 * Xr[:, :1] + 0.5 * Xr[:, 1:]\n",
    "yr"
   ]
  },
  {
   "cell_type": "markdown",
   "metadata": {},
   "source": [
    "$X_r$ are the samples, $y_r$ are the outputs. The model is $y_r = X_r \\cdot (2, 0.5)^T$"
   ]
  },
  {
   "cell_type": "markdown",
   "metadata": {},
   "source": [
    "$$X_r = \n",
    "\\begin{pmatrix}\n",
    "-1 & 1 \\\\\n",
    "-0.3 & -1 \\\\\n",
    "1 & 0.1 \\\\\n",
    "\\end{pmatrix} \\\\\n",
    "y_r = \\begin{pmatrix}\n",
    "-1 & 1 \\\\\n",
    "-0.3 & -1 \\\\\n",
    "1 & 0.1 \\\\\n",
    "\\end{pmatrix}\n",
    "\\cdot\n",
    "\\begin{pmatrix}\n",
    "2 \\\\\n",
    "0.5\n",
    "\\end{pmatrix}\n",
    "=\n",
    "\\begin{pmatrix}\n",
    "-1.5 \\\\\n",
    "-1.1 \\\\\n",
    "-2.05\n",
    "\\end{pmatrix}\n",
    "$$\n"
   ]
  },
  {
   "cell_type": "markdown",
   "metadata": {},
   "source": [
    "### Now define the cost function, just MSE\n",
    "\n",
    "* It's the MSE on each mesh grid."
   ]
  },
  {
   "cell_type": "code",
   "execution_count": 7,
   "metadata": {},
   "outputs": [
    {
     "data": {
      "text/plain": [
       "array([[ 1.        ,  2.9       , -3.2       ],\n",
       "       [ 0.99198397,  2.89759519, -3.19198397],\n",
       "       [ 0.98396794,  2.89519038, -3.18396794],\n",
       "       ...,\n",
       "       [ 0.01603206, -1.29519038,  1.08396794],\n",
       "       [ 0.00801603, -1.29759519,  1.09198397],\n",
       "       [ 0.        , -1.3       ,  1.1       ]])"
      ]
     },
     "execution_count": 7,
     "metadata": {},
     "output_type": "execute_result"
    }
   ],
   "source": [
    "(T.dot(Xr.T) - yr.T)"
   ]
  },
  {
   "cell_type": "code",
   "execution_count": 8,
   "metadata": {},
   "outputs": [
    {
     "data": {
      "text/plain": [
       "array([[1.00000000e+00, 8.41000000e+00, 1.02400000e+01],\n",
       "       [9.84032193e-01, 8.39605789e+00, 1.01887617e+01],\n",
       "       [9.68192899e-01, 8.38212734e+00, 1.01376518e+01],\n",
       "       ...,\n",
       "       [2.57027080e-04, 1.67751812e+00, 1.17498649e+00],\n",
       "       [6.42567701e-05, 1.68375328e+00, 1.19242899e+00],\n",
       "       [0.00000000e+00, 1.69000000e+00, 1.21000000e+00]])"
      ]
     },
     "execution_count": 8,
     "metadata": {},
     "output_type": "execute_result"
    }
   ],
   "source": [
    "(T.dot(Xr.T) - yr.T)**2"
   ]
  },
  {
   "cell_type": "code",
   "execution_count": 10,
   "metadata": {},
   "outputs": [
    {
     "data": {
      "text/plain": [
       "array([19.65      , 19.56885173, 19.48797206, ...,  2.85276164,\n",
       "        2.87624652,  2.9       ])"
      ]
     },
     "execution_count": 10,
     "metadata": {},
     "output_type": "execute_result"
    }
   ],
   "source": [
    "np.sum((T.dot(Xr.T) - yr.T)**2, axis=1)"
   ]
  },
  {
   "cell_type": "code",
   "execution_count": 13,
   "metadata": {},
   "outputs": [
    {
     "data": {
      "text/plain": [
       "array([[6.55      , 6.52295058, 6.49599069, ..., 4.14168207, 4.1591296 ,\n",
       "        4.17666667],\n",
       "       [6.54112642, 6.51405772, 6.48707855, ..., 4.1232278 , 4.14065606,\n",
       "        4.15817385],\n",
       "       [6.53230128, 6.5052133 , 6.47821485, ..., 4.10482198, 4.12223095,\n",
       "        4.13972947],\n",
       "       ...,\n",
       "       [8.10955578, 8.07292568, 8.0363851 , ..., 0.9396377 , 0.94750455,\n",
       "        0.95546093],\n",
       "       [8.12475368, 8.08810429, 8.05154444, ..., 0.94525491, 0.95310248,\n",
       "        0.96103958],\n",
       "       [8.14      , 8.10333134, 8.06675221, ..., 0.95092055, 0.95874884,\n",
       "        0.96666667]])"
      ]
     },
     "execution_count": 13,
     "metadata": {},
     "output_type": "execute_result"
    }
   ],
   "source": [
    "J = (1. / len(Xr) * np.sum((T.dot(Xr.T) - yr.T)**2, axis=1)).reshape(t1.shape)\n",
    "J"
   ]
  },
  {
   "cell_type": "markdown",
   "metadata": {},
   "source": [
    "### Now we get the MSE cost function @ each meshgrid\n",
    "\n",
    "* And it's shape is the mesh shape"
   ]
  },
  {
   "cell_type": "code",
   "execution_count": null,
   "metadata": {},
   "outputs": [],
   "source": []
  }
 ],
 "metadata": {
  "kernelspec": {
   "display_name": "Python 3",
   "language": "python",
   "name": "python3"
  },
  "language_info": {
   "codemirror_mode": {
    "name": "ipython",
    "version": 3
   },
   "file_extension": ".py",
   "mimetype": "text/x-python",
   "name": "python",
   "nbconvert_exporter": "python",
   "pygments_lexer": "ipython3",
   "version": "3.7.4"
  }
 },
 "nbformat": 4,
 "nbformat_minor": 2
}
